{
  "nbformat": 4,
  "nbformat_minor": 0,
  "metadata": {
    "colab": {
      "name": "Quantum-Random-Numbers.ipynb",
      "provenance": []
    },
    "kernelspec": {
      "name": "python3",
      "display_name": "Python 3"
    },
    "language_info": {
      "name": "python"
    }
  },
  "cells": [
    {
      "cell_type": "code",
      "metadata": {
        "id": "PwhMlMqbh0pC"
      },
      "source": [
        "!pip install 'qiskit[visualization]'"
      ],
      "execution_count": null,
      "outputs": []
    },
    {
      "cell_type": "markdown",
      "metadata": {
        "id": "VbLaQF4ckFYY"
      },
      "source": [
        "# Simple Coin Flip"
      ]
    },
    {
      "cell_type": "code",
      "metadata": {
        "id": "k6HBzupwit3m"
      },
      "source": [
        "import random"
      ],
      "execution_count": null,
      "outputs": []
    },
    {
      "cell_type": "code",
      "metadata": {
        "id": "fo-oAECUjBX6"
      },
      "source": [
        "def classical_coin():\n",
        "  num = random.randint(0, 1)\n",
        "  if num == 0:\n",
        "    return \"heads\"\n",
        "  else:\n",
        "    return 'tails'"
      ],
      "execution_count": null,
      "outputs": []
    },
    {
      "cell_type": "code",
      "metadata": {
        "colab": {
          "base_uri": "https://localhost:8080/"
        },
        "id": "3tV6U8kcjFvF",
        "outputId": "2667ed9a-418f-47c0-c929-53c587fbe81e"
      },
      "source": [
        "print(classical_coin())"
      ],
      "execution_count": null,
      "outputs": [
        {
          "output_type": "stream",
          "text": [
            "heads\n"
          ],
          "name": "stdout"
        }
      ]
    },
    {
      "cell_type": "markdown",
      "metadata": {
        "id": "XnQOSA38kP1I"
      },
      "source": [
        "# Quantum Coin Flip"
      ]
    },
    {
      "cell_type": "code",
      "metadata": {
        "id": "8ut7cbY1jGZE"
      },
      "source": [
        "from qiskit import QuantumCircuit, Aer, execute, assemble\n",
        "from qiskit.visualization import plot_bloch_multivector, plot_histogram"
      ],
      "execution_count": null,
      "outputs": []
    },
    {
      "cell_type": "code",
      "metadata": {
        "id": "ly7mb3selZut"
      },
      "source": [
        "%matplotlib inline"
      ],
      "execution_count": null,
      "outputs": []
    },
    {
      "cell_type": "code",
      "metadata": {
        "colab": {
          "base_uri": "https://localhost:8080/",
          "height": 140
        },
        "id": "-6G7wzDKkcTY",
        "outputId": "9ce1c4dd-d1f4-4dd5-ee96-774673f52899"
      },
      "source": [
        "qcf = QuantumCircuit(1)\n",
        "qcf.h(0)\n",
        "qcf.measure_all()\n",
        "qcf.draw(output='mpl')"
      ],
      "execution_count": null,
      "outputs": [
        {
          "output_type": "execute_result",
          "data": {
            "image/png": "[encoded data removed]",
            "text/plain": [
              "<Figure size 297.479x144.48 with 1 Axes>"
            ]
          },
          "metadata": {
            "tags": []
          },
          "execution_count": 71
        }
      ]
    },
    {
      "cell_type": "code",
      "metadata": {
        "colab": {
          "base_uri": "https://localhost:8080/",
          "height": 323
        },
        "id": "rt21ZAiIlguc",
        "outputId": "93852c9b-3d79-4c5c-f79f-dc6423df24f4"
      },
      "source": [
        "simulator = Aer.get_backend('qasm_simulator')\n",
        "res = execute(qcf, backend=simulator, shots=1).result()\n",
        "plot_histogram(res.get_counts())"
      ],
      "execution_count": null,
      "outputs": [
        {
          "output_type": "execute_result",
          "data": {
            "image/png": "[encoded data removed]",
            "text/plain": [
              "<Figure size 504x360 with 1 Axes>"
            ]
          },
          "metadata": {
            "tags": []
          },
          "execution_count": 89
        }
      ]
    },
    {
      "cell_type": "markdown",
      "metadata": {
        "id": "KXiQgmChpAwW"
      },
      "source": [
        "# Running on an IBM quantum computer"
      ]
    },
    {
      "cell_type": "code",
      "metadata": {
        "id": "RmN4lcZGmZN-"
      },
      "source": [
        "from qiskit import IBMQ\n",
        "from qiskit.tools.monitor import job_monitor"
      ],
      "execution_count": null,
      "outputs": []
    },
    {
      "cell_type": "code",
      "metadata": {
        "id": "43DNHo7GoKy2"
      },
      "source": [
        "IBMQ.save_account('8f7b971b8eeb862e530b7c1086c454c32dfc9891fe0e8456b7d801a503832f4a2a912f03993819d38cb2fc1fd0cb5319b4a1f5760ae2250cc3fade23d4c1f956')"
      ],
      "execution_count": null,
      "outputs": []
    },
    {
      "cell_type": "code",
      "metadata": {
        "colab": {
          "base_uri": "https://localhost:8080/"
        },
        "id": "pOJgfl00oP0m",
        "outputId": "e909f2de-28d2-45d3-e74d-02dc9fec181e"
      },
      "source": [
        "IBMQ.load_account()"
      ],
      "execution_count": null,
      "outputs": [
        {
          "output_type": "execute_result",
          "data": {
            "text/plain": [
              "<AccountProvider for IBMQ(hub='ibm-q', group='open', project='main')>"
            ]
          },
          "metadata": {
            "tags": []
          },
          "execution_count": 94
        }
      ]
    },
    {
      "cell_type": "code",
      "metadata": {
        "id": "dLoewva8oZtO"
      },
      "source": [
        "def runQuantumComputer(qc: QuantumCircuit):\n",
        "  provider = IBMQ.get_provider('ibm-q')\n",
        "  backend = provider.get_backend('ibmq_athens')\n",
        "  job = execute(qc, backend=backend, shots=1)\n",
        "  job_monitor(job)\n",
        "  return job.result()"
      ],
      "execution_count": null,
      "outputs": []
    },
    {
      "cell_type": "code",
      "metadata": {
        "colab": {
          "base_uri": "https://localhost:8080/",
          "height": 340
        },
        "id": "pgzCEXMLo01N",
        "outputId": "c33e5af9-cb5d-4576-b3e5-1b2b54fbfaf4"
      },
      "source": [
        "res = runQuantumComputer(qcf).get_counts()\n",
        "plot_histogram(res)"
      ],
      "execution_count": null,
      "outputs": [
        {
          "output_type": "stream",
          "text": [
            "Job Status: job has successfully run\n"
          ],
          "name": "stdout"
        },
        {
          "output_type": "execute_result",
          "data": {
            "image/png": "[encoded data removed]",
            "text/plain": [
              "<Figure size 504x360 with 1 Axes>"
            ]
          },
          "metadata": {
            "tags": []
          },
          "execution_count": 96
        }
      ]
    },
    {
      "cell_type": "markdown",
      "metadata": {
        "id": "FJaB2tJDpFYf"
      },
      "source": [
        "# Quantum Random Number Generator"
      ]
    },
    {
      "cell_type": "code",
      "metadata": {
        "id": "DgPTVSSdrKle"
      },
      "source": [
        "def quantum_rng():\n",
        "  rng_qc = QuantumCircuit(4)\n",
        "  rng_qc.h([0, 1, 2, 3])\n",
        "  rng_qc.measure_all()\n",
        "  sim = Aer.get_backend('qasm_simulator')\n",
        "  res = execute(rng_qc, backend=sim, shots = 1).result()\n",
        "  return res"
      ],
      "execution_count": null,
      "outputs": []
    },
    {
      "cell_type": "code",
      "metadata": {
        "colab": {
          "base_uri": "https://localhost:8080/"
        },
        "id": "ziOp9y19siTZ",
        "outputId": "e9ff66e9-79a1-4fcc-a6d7-70e7f2fab145"
      },
      "source": [
        "while True:\n",
        "  counts_temp = quantum_rng().get_counts()\n",
        "  counts = dict((y,x) for x,y in counts_temp.items())\n",
        "  dec = int(counts[1],2)\n",
        "\n",
        "  if dec <= 10:\n",
        "    print(dec)\n",
        "    break"
      ],
      "execution_count": null,
      "outputs": [
        {
          "output_type": "stream",
          "text": [
            "3\n"
          ],
          "name": "stdout"
        }
      ]
    }
  ]
}