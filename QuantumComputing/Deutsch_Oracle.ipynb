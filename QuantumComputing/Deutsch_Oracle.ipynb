{
  "nbformat": 4,
  "nbformat_minor": 0,
  "metadata": {
    "colab": {
      "name": "Deutsch-Oracle.ipynb",
      "provenance": []
    },
    "kernelspec": {
      "name": "python3",
      "display_name": "Python 3"
    },
    "language_info": {
      "name": "python"
    }
  },
  "cells": [
    {
      "cell_type": "code",
      "metadata": {
        "id": "Slyx3236-s6d"
      },
      "source": [
        "!pip install 'qiskit[visualization]'"
      ],
      "execution_count": null,
      "outputs": []
    },
    {
      "cell_type": "code",
      "metadata": {
        "id": "C-kshwSd-0vZ"
      },
      "source": [
        "%matplotlib inline"
      ],
      "execution_count": null,
      "outputs": []
    },
    {
      "cell_type": "code",
      "metadata": {
        "id": "VXJOVENi_GQN"
      },
      "source": [
        "from qiskit import QuantumCircuit, Aer, execute\n",
        "from qiskit.visualization import plot_bloch_multivector, plot_histogram"
      ],
      "execution_count": null,
      "outputs": []
    },
    {
      "cell_type": "code",
      "metadata": {
        "id": "xQepLNa0DBuC"
      },
      "source": [
        "def identity(qc: QuantumCircuit):\n",
        "  qc.cx(0, 1)\n",
        "\n",
        "def negation(qc: QuantumCircuit):\n",
        "  qc.cx(0, 1)\n",
        "  qc.x(0)\n",
        "\n",
        "def constant0(qc: QuantumCircuit):\n",
        "  pass\n",
        "\n",
        "def constant1(qc: QuantumCircuit):\n",
        "  qc.x(0)"
      ],
      "execution_count": null,
      "outputs": []
    },
    {
      "cell_type": "code",
      "metadata": {
        "colab": {
          "base_uri": "https://localhost:8080/"
        },
        "id": "lRfTIX3yDEyK",
        "outputId": "1d92a9f3-0ced-4148-c85b-e506a1a452e6"
      },
      "source": [
        "qc = QuantumCircuit(2, 2)\n",
        "qc.x(1)\n",
        "qc.h([0, 1])\n",
        "identity(qc)\n",
        "qc.h([0, 1])\n",
        "qc.measure(0, 0)"
      ],
      "execution_count": null,
      "outputs": [
        {
          "output_type": "execute_result",
          "data": {
            "text/plain": [
              "<qiskit.circuit.instructionset.InstructionSet at 0x7f45c4beddd0>"
            ]
          },
          "metadata": {
            "tags": []
          },
          "execution_count": 54
        }
      ]
    },
    {
      "cell_type": "code",
      "metadata": {
        "colab": {
          "base_uri": "https://localhost:8080/",
          "height": 185
        },
        "id": "QHn3aXYqD8i4",
        "outputId": "50e32740-a31c-46f3-c7f4-f304d80d4b9c"
      },
      "source": [
        "qc.draw(output='mpl')"
      ],
      "execution_count": null,
      "outputs": [
        {
          "output_type": "execute_result",
          "data": {
            "image/png": "[encoded data removed]",
            "text/plain": [
              "<Figure size 387.452x204.68 with 1 Axes>"
            ]
          },
          "metadata": {
            "tags": []
          },
          "execution_count": 55
        }
      ]
    },
    {
      "cell_type": "code",
      "metadata": {
        "id": "6s1GOFLxHCcw"
      },
      "source": [
        "sim = Aer.get_backend('statevector_simulator')\n",
        "res = execute(qc, backend=sim).result()"
      ],
      "execution_count": null,
      "outputs": []
    },
    {
      "cell_type": "code",
      "metadata": {
        "colab": {
          "base_uri": "https://localhost:8080/"
        },
        "id": "9uJiLBeKHZv-",
        "outputId": "2930289b-3b88-4e2e-9f97-c4cbd7f4ba85"
      },
      "source": [
        "print(res.get_statevector())"
      ],
      "execution_count": null,
      "outputs": [
        {
          "output_type": "stream",
          "text": [
            "[0.00000000e+00+0.0000000e+00j 1.11022302e-16+6.1232340e-17j\n",
            " 0.00000000e+00+0.0000000e+00j 1.00000000e+00-1.8369702e-16j]\n"
          ],
          "name": "stdout"
        }
      ]
    },
    {
      "cell_type": "code",
      "metadata": {
        "colab": {
          "base_uri": "https://localhost:8080/",
          "height": 331
        },
        "id": "q8a4kZGVHbu7",
        "outputId": "f59e93e5-584a-471e-9f06-668792214ce8"
      },
      "source": [
        "plot_histogram(res.get_counts())"
      ],
      "execution_count": null,
      "outputs": [
        {
          "output_type": "execute_result",
          "data": {
            "image/png": "[encoded data removed]",
            "text/plain": [
              "<Figure size 504x360 with 1 Axes>"
            ]
          },
          "metadata": {
            "tags": []
          },
          "execution_count": 59
        }
      ]
    }
  ]
}