{
  "nbformat": 4,
  "nbformat_minor": 0,
  "metadata": {
    "colab": {
      "name": "Grovers-Algorithim.ipynb",
      "provenance": []
    },
    "kernelspec": {
      "name": "python3",
      "display_name": "Python 3"
    },
    "language_info": {
      "name": "python"
    }
  },
  "cells": [
    {
      "cell_type": "code",
      "metadata": {
        "id": "4JzvbFKsQ3eH"
      },
      "source": [
        "!pip install 'qiskit[visualization]'"
      ],
      "execution_count": null,
      "outputs": []
    },
    {
      "cell_type": "code",
      "metadata": {
        "id": "EU_sl_wmQ76a"
      },
      "source": [
        "from qiskit import QuantumCircuit, execute, Aer\n",
        "from qiskit.visualization import plot_bloch_multivector, plot_histogram, array_to_latex"
      ],
      "execution_count": null,
      "outputs": []
    },
    {
      "cell_type": "code",
      "metadata": {
        "id": "gsR_KBx5bO9c"
      },
      "source": [
        "%matplotlib inline"
      ],
      "execution_count": null,
      "outputs": []
    },
    {
      "cell_type": "code",
      "metadata": {
        "colab": {
          "base_uri": "https://localhost:8080/",
          "height": 140
        },
        "id": "nVKVB0rkbR3H",
        "outputId": "a1586206-8b63-4720-e1dc-19cec611a175"
      },
      "source": [
        "oracle = QuantumCircuit(2, name='oracle')\n",
        "oracle.cz(0, 1)\n",
        "oracle.to_gate()\n",
        "oracle.draw(output='mpl')"
      ],
      "execution_count": null,
      "outputs": [
        {
          "output_type": "execute_result",
          "data": {
            "image/png": "[encoded data removed]",
            "text/plain": [
              "<Figure size 146.652x144.48 with 1 Axes>"
            ]
          },
          "metadata": {
            "tags": []
          },
          "execution_count": 44
        }
      ]
    },
    {
      "cell_type": "code",
      "metadata": {
        "colab": {
          "base_uri": "https://localhost:8080/",
          "height": 185
        },
        "id": "TTO_glWQSKvV",
        "outputId": "01c64334-6a97-47d0-d0fe-09795f0740ed"
      },
      "source": [
        "test_circ = QuantumCircuit(2, 2)\n",
        "test_circ.h([0, 1])\n",
        "test_circ.append(oracle, [0, 1])\n",
        "test_circ.draw(output='mpl')"
      ],
      "execution_count": null,
      "outputs": [
        {
          "output_type": "execute_result",
          "data": {
            "image/png": "[encoded data removed]",
            "text/plain": [
              "<Figure size 267.052x204.68 with 1 Axes>"
            ]
          },
          "metadata": {
            "tags": []
          },
          "execution_count": 45
        }
      ]
    },
    {
      "cell_type": "code",
      "metadata": {
        "id": "OGH9B9tUb2jr"
      },
      "source": [
        "sim = Aer.get_backend('statevector_simulator')\n",
        "res = execute(test_circ, backend=sim).result()"
      ],
      "execution_count": null,
      "outputs": []
    },
    {
      "cell_type": "code",
      "metadata": {
        "colab": {
          "base_uri": "https://localhost:8080/",
          "height": 38
        },
        "id": "hxIcvuOncDaX",
        "outputId": "99293bd7-5914-4efb-bac9-38f1bc6ba44b"
      },
      "source": [
        "array_to_latex(res.get_statevector())"
      ],
      "execution_count": null,
      "outputs": [
        {
          "output_type": "execute_result",
          "data": {
            "text/latex": "$$\n\n\\begin{bmatrix}\n\\tfrac{1}{2} & \\tfrac{1}{2} & \\tfrac{1}{2} & -\\tfrac{1}{2}  \\\\\n \\end{bmatrix}\n$$",
            "text/plain": [
              "<IPython.core.display.Latex object>"
            ]
          },
          "metadata": {
            "tags": []
          },
          "execution_count": 47
        }
      ]
    },
    {
      "cell_type": "code",
      "metadata": {
        "colab": {
          "base_uri": "https://localhost:8080/",
          "height": 140
        },
        "id": "cFOYZ2mwcG6v",
        "outputId": "ec623bd9-0e85-4ac3-8eeb-62d2c9d90322"
      },
      "source": [
        "reflection = QuantumCircuit(2, name='reflection')\n",
        "reflection.h([0, 1])\n",
        "reflection.z([0, 1])\n",
        "reflection.cz(0, 1)\n",
        "reflection.h([0, 1])\n",
        "reflection.to_gate()\n",
        "reflection.draw(output='mpl')"
      ],
      "execution_count": null,
      "outputs": [
        {
          "output_type": "execute_result",
          "data": {
            "image/png": "[encoded data removed]",
            "text/plain": [
              "<Figure size 327.252x144.48 with 1 Axes>"
            ]
          },
          "metadata": {
            "tags": []
          },
          "execution_count": 48
        }
      ]
    },
    {
      "cell_type": "code",
      "metadata": {
        "colab": {
          "base_uri": "https://localhost:8080/",
          "height": 185
        },
        "id": "cq9k-HqVdhgl",
        "outputId": "96a180d3-b2f0-41fd-c3e7-26ab8a3d719b"
      },
      "source": [
        "grover = QuantumCircuit(2, 2)\n",
        "grover.h([0, 1])\n",
        "grover.append(oracle, [0, 1])\n",
        "grover.append(reflection, [0, 1])\n",
        "grover.measure([0, 1], [0, 1])\n",
        "grover.draw(output='mpl')"
      ],
      "execution_count": null,
      "outputs": [
        {
          "output_type": "execute_result",
          "data": {
            "image/png": "[encoded data removed]",
            "text/plain": [
              "<Figure size 507.852x204.68 with 1 Axes>"
            ]
          },
          "metadata": {
            "tags": []
          },
          "execution_count": 49
        }
      ]
    },
    {
      "cell_type": "code",
      "metadata": {
        "colab": {
          "base_uri": "https://localhost:8080/",
          "height": 331
        },
        "id": "gJI0Y_P2d8MW",
        "outputId": "21b9b349-cbc3-4cb7-867f-5f9edd9d660d"
      },
      "source": [
        "res = execute(grover, backend=sim).result()\n",
        "plot_histogram(res.get_counts())"
      ],
      "execution_count": null,
      "outputs": [
        {
          "output_type": "execute_result",
          "data": {
            "image/png": "[encoded data removed]",
            "text/plain": [
              "<Figure size 504x360 with 1 Axes>"
            ]
          },
          "metadata": {
            "tags": []
          },
          "execution_count": 50
        }
      ]
    },
    {
      "cell_type": "code",
      "metadata": {
        "colab": {
          "base_uri": "https://localhost:8080/",
          "height": 38
        },
        "id": "7FZ3lSmbeUr3",
        "outputId": "9d47ea94-e44a-4016-b829-805a1d137365"
      },
      "source": [
        "array_to_latex(res.get_statevector())"
      ],
      "execution_count": null,
      "outputs": [
        {
          "output_type": "execute_result",
          "data": {
            "text/latex": "$$\n\n\\begin{bmatrix}\n0 & 0 & 0 & 1  \\\\\n \\end{bmatrix}\n$$",
            "text/plain": [
              "<IPython.core.display.Latex object>"
            ]
          },
          "metadata": {
            "tags": []
          },
          "execution_count": 51
        }
      ]
    },
    {
      "cell_type": "code",
      "metadata": {
        "id": "qE_8kK5GiYxu"
      },
      "source": [
        "from qiskit import IBMQ\n",
        "from qiskit.tools.monitor import job_monitor"
      ],
      "execution_count": null,
      "outputs": []
    },
    {
      "cell_type": "code",
      "metadata": {
        "colab": {
          "base_uri": "https://localhost:8080/"
        },
        "id": "XGJ1e0Zyijt6",
        "outputId": "597bad68-c28e-4b74-e088-f5b1f7d7679e"
      },
      "source": [
        "IBMQ.save_account('8f7b971b8eeb862e530b7c1086c454c32dfc9891fe0e8456b7d801a503832f4a2a912f03993819d38cb2fc1fd0cb5319b4a1f5760ae2250cc3fade23d4c1f956')"
      ],
      "execution_count": null,
      "outputs": [
        {
          "output_type": "stream",
          "text": [
            "configrc.store_credentials:WARNING:2021-06-17 01:20:38,983: Credentials already present. Set overwrite=True to overwrite.\n"
          ],
          "name": "stderr"
        }
      ]
    },
    {
      "cell_type": "code",
      "metadata": {
        "colab": {
          "base_uri": "https://localhost:8080/"
        },
        "id": "NJs-d4JKjwHb",
        "outputId": "c34b7257-e3db-45d6-c173-320360a0ba2b"
      },
      "source": [
        "IBMQ.load_account()"
      ],
      "execution_count": null,
      "outputs": [
        {
          "output_type": "execute_result",
          "data": {
            "text/plain": [
              "<AccountProvider for IBMQ(hub='ibm-q', group='open', project='main')>"
            ]
          },
          "metadata": {
            "tags": []
          },
          "execution_count": 59
        }
      ]
    },
    {
      "cell_type": "code",
      "metadata": {
        "id": "8FNbjxlDijwC"
      },
      "source": [
        "def runQuantumComputer(qc: QuantumCircuit):\n",
        "  provider = IBMQ.get_provider('ibm-q')\n",
        "  backend = provider.get_backend('ibmq_athens')\n",
        "  job = execute(qc, backend=backend, shots=1)\n",
        "  job_monitor(job)\n",
        "  return job.result()"
      ],
      "execution_count": null,
      "outputs": []
    },
    {
      "cell_type": "code",
      "metadata": {
        "colab": {
          "base_uri": "https://localhost:8080/",
          "height": 348
        },
        "id": "qXwMtN4VjEfq",
        "outputId": "aa1e86c8-0e23-485b-f626-d96821c7a71f"
      },
      "source": [
        "res = runQuantumComputer(grover).get_counts()\n",
        "plot_histogram(res)"
      ],
      "execution_count": null,
      "outputs": [
        {
          "output_type": "stream",
          "text": [
            "Job Status: job has successfully run\n"
          ],
          "name": "stdout"
        },
        {
          "output_type": "execute_result",
          "data": {
            "image/png": "[encoded data removed]",
            "text/plain": [
              "<Figure size 504x360 with 1 Axes>"
            ]
          },
          "metadata": {
            "tags": []
          },
          "execution_count": 61
        }
      ]
    },
    {
      "cell_type": "markdown",
      "metadata": {
        "id": "UPdccYmOgDbM"
      },
      "source": [
        "# Satisfiability Problem"
      ]
    },
    {
      "cell_type": "code",
      "metadata": {
        "id": "d8mAwX0veXnV"
      },
      "source": [
        "from qiskit.aqua.algorithms import Grover\n",
        "from qiskit.aqua.components.oracles import LogicalExpressionOracle"
      ],
      "execution_count": null,
      "outputs": []
    },
    {
      "cell_type": "code",
      "metadata": {
        "id": "e5lo97gfgoai"
      },
      "source": [
        "log_exp = '((Olivia & Abe) | (Jin & Amira)) & ~(Abe & Amira)'\n",
        "algorithm = Grover(LogicalExpressionOracle(log_exp))"
      ],
      "execution_count": null,
      "outputs": []
    },
    {
      "cell_type": "code",
      "metadata": {
        "colab": {
          "base_uri": "https://localhost:8080/",
          "height": 364
        },
        "id": "Sn6ltpiRhGLR",
        "outputId": "9763a6f0-45e1-48fb-fa5f-318e4fb67702"
      },
      "source": [
        "sim = Aer.get_backend('qasm_simulator')\n",
        "res = algorithm.run(sim)\n",
        "plot_histogram(res['measurement'], title='Combinations', bar_labels=True)"
      ],
      "execution_count": null,
      "outputs": [
        {
          "output_type": "execute_result",
          "data": {
            "image/png": "[encoded data removed]",
            "text/plain": [
              "<Figure size 504x360 with 1 Axes>"
            ]
          },
          "metadata": {
            "tags": []
          },
          "execution_count": 58
        }
      ]
    }
  ]
}